{
 "cells": [
  {
   "cell_type": "code",
   "execution_count": null,
   "metadata": {},
   "outputs": [],
   "source": [
    "import pandas as pd\n",
    "import os\n",
    "import numpy as np\n",
    "from tqdm import tqdm\n",
    "import warnings\n",
    "warnings.filterwarnings(\"ignore\")"
   ]
  },
  {
   "cell_type": "code",
   "execution_count": null,
   "metadata": {},
   "outputs": [],
   "source": [
    "target = pd.read_csv('../alfabattle2_train_target.csv', index_col = 'app_id')"
   ]
  },
  {
   "cell_type": "code",
   "execution_count": null,
   "metadata": {},
   "outputs": [],
   "source": [
    "zeros = [0 for x in range(21)]"
   ]
  },
  {
   "cell_type": "code",
   "execution_count": null,
   "metadata": {},
   "outputs": [],
   "source": [
    "for _ in os.listdir('../train'):\n",
    "    if 'parquet' in _:\n",
    "        parquet = pd.read_parquet('../train/{}'.format(_), engine='pyarrow')\n",
    "\n",
    "        for i in tqdm(parquet.app_id.unique()):\n",
    "            local = parquet[parquet['app_id'] == i]\n",
    "            local['target'] = target.loc[i, 'flag']\n",
    "            values = list(local.values)\n",
    "            del local\n",
    "            while len(values) <= 100:\n",
    "                values.append(zeros)\n",
    "            pd.DataFrame(data = values).drop([0], axis = 1).head(50).to_csv('users_folder/user{}'.format(i), index = False)\n",
    "            del values\n",
    "        del parquet\n"
   ]
  },
  {
   "cell_type": "code",
   "execution_count": null,
   "metadata": {},
   "outputs": [],
   "source": []
  },
  {
   "cell_type": "code",
   "execution_count": null,
   "metadata": {},
   "outputs": [],
   "source": []
  }
 ],
 "metadata": {
  "kernelspec": {
   "display_name": "Python 3",
   "language": "python",
   "name": "python3"
  },
  "language_info": {
   "codemirror_mode": {
    "name": "ipython",
    "version": 3
   },
   "file_extension": ".py",
   "mimetype": "text/x-python",
   "name": "python",
   "nbconvert_exporter": "python",
   "pygments_lexer": "ipython3",
   "version": "3.8.6"
  }
 },
 "nbformat": 4,
 "nbformat_minor": 4
}
