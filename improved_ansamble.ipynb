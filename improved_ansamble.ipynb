{
 "cells": [
  {
   "cell_type": "code",
   "execution_count": 1,
   "metadata": {},
   "outputs": [
    {
     "data": {
      "text/html": [
       "<style type='text/css'>\n",
       ".datatable table.frame { margin-bottom: 0; }\n",
       ".datatable table.frame thead { border-bottom: none; }\n",
       ".datatable table.frame tr.coltypes td {  color: #FFFFFF;  line-height: 6px;  padding: 0 0.5em;}\n",
       ".datatable .bool    { background: #DDDD99; }\n",
       ".datatable .object  { background: #565656; }\n",
       ".datatable .int     { background: #5D9E5D; }\n",
       ".datatable .float   { background: #4040CC; }\n",
       ".datatable .str     { background: #CC4040; }\n",
       ".datatable .row_index {  background: var(--jp-border-color3);  border-right: 1px solid var(--jp-border-color0);  color: var(--jp-ui-font-color3);  font-size: 9px;}\n",
       ".datatable .frame tr.coltypes .row_index {  background: var(--jp-border-color0);}\n",
       ".datatable th:nth-child(2) { padding-left: 12px; }\n",
       ".datatable .hellipsis {  color: var(--jp-cell-editor-border-color);}\n",
       ".datatable .vellipsis {  background: var(--jp-layout-color0);  color: var(--jp-cell-editor-border-color);}\n",
       ".datatable .na {  color: var(--jp-cell-editor-border-color);  font-size: 80%;}\n",
       ".datatable .footer { font-size: 9px; }\n",
       ".datatable .frame_dimensions {  background: var(--jp-border-color3);  border-top: 1px solid var(--jp-border-color0);  color: var(--jp-ui-font-color3);  display: inline-block;  opacity: 0.6;  padding: 1px 10px 1px 5px;}\n",
       ".datatable .frame thead tr.colnames {  background-image: url('data:image/png;base64,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');  background-repeat: repeat-x;  background-size: 14px;  height: 28px;}\n",
       "</style>\n"
      ],
      "text/plain": [
       "<IPython.core.display.HTML object>"
      ]
     },
     "metadata": {},
     "output_type": "display_data"
    }
   ],
   "source": [
    "from catboost import CatBoostClassifier\n",
    "import os\n",
    "import numpy as np\n",
    "from tqdm import tqdm\n",
    "from sklearn.model_selection import train_test_split\n",
    "import pickle\n",
    "import datatable as dt\n",
    "import pandas as pd"
   ]
  },
  {
   "cell_type": "code",
   "execution_count": 2,
   "metadata": {},
   "outputs": [],
   "source": [
    "def create_model(params):\n",
    "    model = CatBoostClassifier(**params)\n",
    "    return model   \n",
    "\n",
    "def get_params(random):\n",
    "    np.random.seed(random)\n",
    "    params = {'random_seed' : random,\n",
    "            'use_best_model' : True,\n",
    "            'od_type' : \"Iter\",\n",
    "            'od_wait' :100,\n",
    "            'silent' : True}\n",
    "    return params     "
   ]
  },
  {
   "cell_type": "code",
   "execution_count": 47,
   "metadata": {},
   "outputs": [],
   "source": [
    "class ansamble():\n",
    "    \n",
    "    def __init__(self, size = -1, random = 12345):\n",
    "        self.size = size\n",
    "        self.random = random\n",
    "        self.ansamble = []\n",
    "        if size == -1:\n",
    "            holder = input('введи дерикторию с моделями')\n",
    "            self.load(holder)\n",
    "        else:\n",
    "            for i in range(size):\n",
    "                params = get_params(self.random + i)\n",
    "                self.ansamble.append(create_model(params))\n",
    "    \n",
    "    def fit(self, X, y, holder, first = 0):\n",
    "        X_train, X_test, y_train, y_test = train_test_split(X, y, random_state=0, test_size = .1)\n",
    "        k = first\n",
    "        \n",
    "        if first > self.size:\n",
    "            return 'обучение не возможно, начальное значение за пределами количества ансамблей модели'\n",
    "\n",
    "        \n",
    "        for i in tqdm(self.ansamble[(first):]):\n",
    "            k += 1\n",
    "            i.fit(X_train, y_train, eval_set = (X_test, y_test), plot = False)\n",
    "            filename = holder + 'model' + str(k)\n",
    "            pickle.dump(i, open(filename, 'wb'))\n",
    "            \n",
    "    def predict(self, test):\n",
    "        result = []\n",
    "        for i in self.ansamble:\n",
    "            result.append(i.predict_proba(test)[:, 1])\n",
    "        result = np.mean(result, axis = 0) \n",
    "        return result\n",
    "    \n",
    "    def load(self, holder, load_all = True):\n",
    "        files = os.listdir(holder)\n",
    "        self.ansamble = []\n",
    "        k = 0\n",
    "        for i in files:\n",
    "            if 'model' in i:\n",
    "                link = holder+i\n",
    "                self.ansamble.append(pickle.load(open(link, 'rb')))\n",
    "                \n",
    "            k += 1\n",
    "            if not load_all:\n",
    "                if k == self.size:\n",
    "                    break\n",
    "        if load_all:\n",
    "            self.size = len(self.ansamble)\n",
    "                \n",
    "    def up_fit(self, X, y, holder):\n",
    "        files = os.listdir(holder)\n",
    "        last_model = 0\n",
    "        for i in files:\n",
    "            if 'model' in i:\n",
    "                number = int(i.replace('model', ''))\n",
    "                if number > last_model:\n",
    "                    last_model = number\n",
    "        if last_model == self.size:\n",
    "            return 'ансамбль обучен'\n",
    "        return self.fit(X, y, holder, first = last_model)"
   ]
  },
  {
   "cell_type": "markdown",
   "metadata": {},
   "source": [
    "* ansamble:\n",
    " 1. если при создание не указать размер, то ансамбль подгрузит все модели из деректории \n",
    " 2. если при указать размер(n), то ансамбль создаст n не обученных моделей\n",
    "* fit - обучает ансамбль: \n",
    " 1. поочередно обучает каждую модель ансамбля\n",
    " 2. требует параметры:\n",
    "     1. X - фичи для обучения\n",
    "     2. y - таргетовое значение для обучения\n",
    "     3. holder - целевая директория, куда будут сохраненны модели ансамбля\n",
    "* up_fit - дообучает модель до указаного размера(задается при инициализации класса):\n",
    " 1. не подгружает уже обученные можели в ансамбль для этого используй load\n",
    " 2. требует параметры:\n",
    "     1. X - фичи для обучения\n",
    "     2. y - таргетовое значение для обучения\n",
    "     3. holder - целевая директория, куда будут сохраненны модели ансамбля и спомощью которой будет определенно количество уже обученных моделей\n",
    "* predict - предсказывает значения по тестовым фичам:\n",
    " 1. требует параметры:\n",
    "     1. test - фичи по которым нужно сделать предсказание\n",
    "* load(self, holder, load_all = True):\n",
    " 1. требует параметры:\n",
    "     1. holder - целевая директория, откуда будут загруженны модели ансамбля\n",
    "     2. load_all - по умолчанию True: показывает нужно ли загружать все модели или только n(размер ансамбля)"
   ]
  },
  {
   "cell_type": "code",
   "execution_count": null,
   "metadata": {},
   "outputs": [],
   "source": []
  }
 ],
 "metadata": {
  "kernelspec": {
   "display_name": "Python 3",
   "language": "python",
   "name": "python3"
  },
  "language_info": {
   "codemirror_mode": {
    "name": "ipython",
    "version": 3
   },
   "file_extension": ".py",
   "mimetype": "text/x-python",
   "name": "python",
   "nbconvert_exporter": "python",
   "pygments_lexer": "ipython3",
   "version": "3.8.6"
  }
 },
 "nbformat": 4,
 "nbformat_minor": 4
}
