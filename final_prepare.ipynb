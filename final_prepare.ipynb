{
 "cells": [
  {
   "cell_type": "code",
   "execution_count": 1,
   "metadata": {},
   "outputs": [],
   "source": [
    "import pandas as pd\n",
    "from catboost import CatBoostClassifier\n",
    "from sklearn.preprocessing import StandardScaler\n",
    "from sklearn.decomposition import PCA\n",
    "from tqdm import tqdm"
   ]
  },
  {
   "cell_type": "code",
   "execution_count": 2,
   "metadata": {},
   "outputs": [],
   "source": [
    "df = pd.read_csv('train.csv')"
   ]
  },
  {
   "cell_type": "code",
   "execution_count": null,
   "metadata": {},
   "outputs": [],
   "source": [
    "df1 = pd.read_csv('test.csv').drop(['Unnamed: 0', 'app_id'], axis = 1)"
   ]
  },
  {
   "cell_type": "code",
   "execution_count": null,
   "metadata": {},
   "outputs": [],
   "source": [
    "out_of_test = ['PAYMENT_SYSTEM amnt max 6', 'PAYMENT_SYSTEM amnt min 6', 'PAYMENT_SYSTEM amnt sum 6', 'PAYMENT_SYSTEM amnt var 6', 'PAYMENT_SYSTEM amnt mean 6']\n",
    "for i in out_of_test:\n",
    "    df1[i]=0"
   ]
  },
  {
   "cell_type": "code",
   "execution_count": null,
   "metadata": {},
   "outputs": [],
   "source": [
    "def cross_val_search(x, y, val_count):\n",
    "    \n",
    "    importances = {}\n",
    "    \n",
    "    for i in x.columns:\n",
    "        importances[i] = 0\n",
    "    \n",
    "    for i in tqdm(range(val_count)):\n",
    "        model = CatBoostClassifier(random_seed = i, silent = True)\n",
    "        model.fit(x,y)\n",
    "        features = model.feature_importances_\n",
    "        d = 0\n",
    "        \n",
    "        for k in importances.keys():\n",
    "            importances[k] += features[d]\n",
    "            d += 1\n",
    "            \n",
    "    return importances\n",
    "            \n",
    "        "
   ]
  },
  {
   "cell_type": "code",
   "execution_count": null,
   "metadata": {},
   "outputs": [],
   "source": [
    "def get_names(columns):\n",
    "    names = set()\n",
    "    for i in columns:\n",
    "        names.add(i.split(' ')[0])\n",
    "    return list(names)\n",
    "\n",
    "def get_df(df, name):\n",
    "    columns = []\n",
    "    for i in df.columns:\n",
    "        if name in i:\n",
    "            columns.append(i)\n",
    "    return df[columns]"
   ]
  },
  {
   "cell_type": "code",
   "execution_count": null,
   "metadata": {},
   "outputs": [],
   "source": [
    "def pca_exchange(df, name, desperce):\n",
    "    pca = PCA(n_components = desperce, svd_solver ='full')\n",
    "    transformed = pca.fit_transform(df)\n",
    "    columns = ['{} {}'.format(name, i) for i in range(transformed.shape[1])]\n",
    "    return pd.DataFrame(columns = columns, data = transformed), pca"
   ]
  },
  {
   "cell_type": "code",
   "execution_count": null,
   "metadata": {},
   "outputs": [],
   "source": [
    "def test_pca(df, name, pca):\n",
    "    transformed = pca.transform(df)\n",
    "    columns = ['{} {}'.format(name, i) for i in range(transformed.shape[1])]\n",
    "    return pd.DataFrame(columns = columns, data = transformed)"
   ]
  },
  {
   "cell_type": "code",
   "execution_count": null,
   "metadata": {},
   "outputs": [],
   "source": [
    "def prepare_train(x, y, val_count = 20, desperce = .99):\n",
    "    \n",
    "    x = x.fillna(0)\n",
    "    \n",
    "    importances = cross_val_search(x, y, val_count)\n",
    "    \n",
    "    val = pd.DataFrame(data = importances.values(), index = importances.keys()) \n",
    "    safe = val[val[0] > 0.1*val_count].index # получение важных фич, которые не нуждаются в изменение \n",
    "    # и которые нужно сохранить\n",
    "    \n",
    "    features = x[safe].copy() # сохранение важных фич\n",
    "    features.index.name = 'key'\n",
    "    \n",
    "    scaler = StandardScaler()\n",
    "    scaler.fit(x)\n",
    "    x = pd.DataFrame(data = scaler.transform(x), index = x.index, columns = x.columns) # стандартизируем фичи\n",
    "    \n",
    "    pca_save = {} # словарь, который будет хранить себе параметры pca, \n",
    "    # дабы не создавать для каждого типа фич свою переменную\n",
    "    \n",
    "    for name in tqdm(get_names(x.columns)):\n",
    "        cols = get_df(x, name)\n",
    "        new_features, pca_save[name]= pca_exchange(cols, name, desperce) # получение обработанного набора фич \n",
    "        # и сохранение pca для дальнейшего использования\n",
    "        new_features.index.name = 'key'\n",
    "        features = features.merge(new_features, on = 'key')\n",
    "    return features, scaler, pca_save, safe"
   ]
  },
  {
   "cell_type": "code",
   "execution_count": null,
   "metadata": {},
   "outputs": [],
   "source": [
    "def prepare_test(x, scaler, pca_list, safe):\n",
    "    \n",
    "    x = x.fillna(0)\n",
    "    \n",
    "    features = x[safe].copy() # сохранение важных фич\n",
    "    features.index.name = 'key'\n",
    "\n",
    "    x = pd.DataFrame(data = scaler.transform(x), index = x.index, columns = x.columns) # стандартизируем фичи\n",
    "    \n",
    "    for name in tqdm(get_names(x.columns)):\n",
    "        cols = get_df(x, name)\n",
    "        new_features = test_pca(cols, name, pca_list[name]) # получение обработанного набора фич \n",
    "        # и сохранение pca для дальнейшего использования\n",
    "        new_features.index.name = 'key'\n",
    "        features = features.merge(new_features, on = 'key')\n",
    "    return features"
   ]
  },
  {
   "cell_type": "code",
   "execution_count": null,
   "metadata": {},
   "outputs": [],
   "source": [
    "x = df.drop(['flag','app_id', 'Unnamed: 0'], axis = 1)\n",
    "y = df['flag']\n",
    "val_count = 1\n",
    "train_features, scaler, pca_save, safe = prepare_train(x, y, val_count, .95)"
   ]
  },
  {
   "cell_type": "code",
   "execution_count": null,
   "metadata": {},
   "outputs": [],
   "source": [
    "train_features"
   ]
  },
  {
   "cell_type": "code",
   "execution_count": null,
   "metadata": {},
   "outputs": [],
   "source": [
    "test_features = prepare_test(df1, scaler, pca_save, safe)"
   ]
  },
  {
   "cell_type": "code",
   "execution_count": null,
   "metadata": {},
   "outputs": [],
   "source": [
    "test_features"
   ]
  },
  {
   "cell_type": "code",
   "execution_count": null,
   "metadata": {},
   "outputs": [],
   "source": []
  }
 ],
 "metadata": {
  "kernelspec": {
   "display_name": "Python 3",
   "language": "python",
   "name": "python3"
  },
  "language_info": {
   "codemirror_mode": {
    "name": "ipython",
    "version": 3
   },
   "file_extension": ".py",
   "mimetype": "text/x-python",
   "name": "python",
   "nbconvert_exporter": "python",
   "pygments_lexer": "ipython3",
   "version": "3.8.6"
  }
 },
 "nbformat": 4,
 "nbformat_minor": 4
}
