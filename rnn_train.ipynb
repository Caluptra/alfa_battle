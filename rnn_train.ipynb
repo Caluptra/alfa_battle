{
 "cells": [
  {
   "cell_type": "code",
   "execution_count": null,
   "metadata": {},
   "outputs": [],
   "source": [
    "import numpy as np\n",
    "import os\n",
    "import gc\n",
    "from tqdm import tqdm\n",
    "import pandas as pd\n",
    "from sklearn.metrics import roc_auc_score\n",
    "import random\n",
    "import tensorflow as tf"
   ]
  },
  {
   "cell_type": "code",
   "execution_count": null,
   "metadata": {},
   "outputs": [],
   "source": [
    "epochs = 1\n",
    "size = 100\n",
    "len_batches = 500\n",
    "users = os.listdir('users_folder')\n",
    "while len(users)%len_batches != 0:\n",
    "    users.append(random.choice(users))\n",
    "users = np.array(users)\n",
    "users_in_batch = int(len(users)/len_batches)"
   ]
  },
  {
   "cell_type": "code",
   "execution_count": null,
   "metadata": {},
   "outputs": [],
   "source": [
    "def get_batch(array):\n",
    "    batch = pd.read_csv('users_folder/{}'.format(array[0]))\n",
    "    for i in range(1, len(array)):\n",
    "        batch = pd.concat([batch, pd.read_csv('users_folder/{}'.format(array[i]))])\n",
    "    batch_y = batch['20'].fillna(0)\n",
    "    batch_x = np.expand_dims(batch.drop('20', axis = 1).values, 1)\n",
    "    return batch_x, batch_y"
   ]
  },
  {
   "cell_type": "code",
   "execution_count": null,
   "metadata": {},
   "outputs": [],
   "source": [
    "def fit(model, x, y):\n",
    "    model.train_on_batch(x, y)\n",
    "    return model"
   ]
  },
  {
   "cell_type": "code",
   "execution_count": null,
   "metadata": {},
   "outputs": [],
   "source": [
    "def score(model, x, y):\n",
    "    local_result = roc_auc_score(y, model.predict(x))\n",
    "    local_weights = model.get_weights()\n",
    "    return local_result, local_weights"
   ]
  },
  {
   "cell_type": "code",
   "execution_count": null,
   "metadata": {},
   "outputs": [],
   "source": [
    "def get_model():\n",
    "    model = tf.keras.Sequential([ \n",
    "        tf.keras.layers.LSTM(size, input_shape = ( 1, 19)),\n",
    "        tf.keras.layers.Dense(200, activation = 'relu'),\n",
    "        tf.keras.layers.Dense(1, activation = 'sigmoid')\n",
    "\n",
    "    ])\n",
    "    model.compile(loss='binary_crossentropy', optimizer='Adam',metrics=['Accuracy'])\n",
    "    return model"
   ]
  },
  {
   "cell_type": "code",
   "execution_count": null,
   "metadata": {},
   "outputs": [],
   "source": [
    "best_result = 0\n",
    "val_size = 0.25\n",
    "best_weights = None\n",
    "model = get_model()\n",
    "val = random.choices(users, k = int(len(users)*val_size))\n",
    "x_val, y_val = get_batch(val)\n",
    "for _ in range(epochs):\n",
    "    print('эпоха номер {}'.format(_))\n",
    "    np.random.shuffle(users)\n",
    "    users_in_batches = users.reshape((len_batches, users_in_batch))\n",
    "    for i in tqdm(users_in_batches):\n",
    "        batch_x, batch_y = get_batch(i)\n",
    "        model = fit(model, batch_x, batch_y)\n",
    "    local_result, local_weights = score(model, x_val, y_val)\n",
    "    if best_result < local_result:\n",
    "        best_weights = local_weights\n",
    "        best_result = local_result\n",
    "    else:\n",
    "        model.set_weights(best_weights)\n",
    "    print(best_result)"
   ]
  },
  {
   "cell_type": "code",
   "execution_count": null,
   "metadata": {},
   "outputs": [],
   "source": []
  },
  {
   "cell_type": "code",
   "execution_count": null,
   "metadata": {},
   "outputs": [],
   "source": []
  },
  {
   "cell_type": "code",
   "execution_count": null,
   "metadata": {},
   "outputs": [],
   "source": []
  }
 ],
 "metadata": {
  "kernelspec": {
   "display_name": "Python 3",
   "language": "python",
   "name": "python3"
  },
  "language_info": {
   "codemirror_mode": {
    "name": "ipython",
    "version": 3
   },
   "file_extension": ".py",
   "mimetype": "text/x-python",
   "name": "python",
   "nbconvert_exporter": "python",
   "pygments_lexer": "ipython3",
   "version": "3.8.6"
  }
 },
 "nbformat": 4,
 "nbformat_minor": 4
}
